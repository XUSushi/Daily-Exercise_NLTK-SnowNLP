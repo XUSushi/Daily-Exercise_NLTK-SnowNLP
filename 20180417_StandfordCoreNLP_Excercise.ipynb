{
 "cells": [
  {
   "cell_type": "code",
   "execution_count": 1,
   "metadata": {
    "collapsed": true
   },
   "outputs": [],
   "source": [
    "#coding: utf-8\n",
    "# 引入库\n",
    "from stanfordcorenlp import StanfordCoreNLP\n",
    "\n",
    "# 用与英文处理的客户实例\n",
    "nlp_en = StanfordCoreNLP('http://192.168.1.112', port=2002)\n",
    "# 用与中文处理的客户实例\n",
    "nlp_cn = StanfordCoreNLP('http://192.168.1.112', port=2003)\n",
    "\n",
    "\n",
    "en_txt = \"There are more public options, too. For example, in 2013, Chinese state media accused Jaguar Land Rover and Audi of overcharging buyers for car parts, which analysts viewed as part of a campaign to pressure those automakers to locate more manufacturing in China.\"\n",
    "cn_txt = \"还有更多的公开选择。比如，2013年，中国官方媒体指责捷豹路虎(Jaguar Land Rover)和奥迪(Audi)对汽车零部件的买家要价过高。分析师认为，那是在向这些汽车制造商施压，让它们把更多的制造工作搬到中国去。\"\n"
   ]
  },
  {
   "cell_type": "code",
   "execution_count": 2,
   "metadata": {
    "collapsed": false
   },
   "outputs": [
    {
     "data": {
      "text/plain": [
       "[u'\\u8fd8\\u6709',\n",
       " u'\\u66f4',\n",
       " u'\\u591a',\n",
       " u'\\u7684',\n",
       " u'\\u516c\\u5f00',\n",
       " u'\\u9009\\u62e9',\n",
       " u'\\u3002',\n",
       " u'\\u6bd4\\u5982',\n",
       " u'\\uff0c',\n",
       " u'2013\\u5e74',\n",
       " u'\\uff0c',\n",
       " u'\\u4e2d\\u56fd',\n",
       " u'\\u5b98\\u65b9',\n",
       " u'\\u5a92\\u4f53',\n",
       " u'\\u6307\\u8d23',\n",
       " u'\\u6377\\u8c79',\n",
       " u'\\u8def\\u864e',\n",
       " u'(',\n",
       " u'Jaguar',\n",
       " u'Land',\n",
       " u'Rover',\n",
       " u')',\n",
       " u'\\u548c',\n",
       " u'\\u5965\\u8fea',\n",
       " u'(',\n",
       " u'Audi',\n",
       " u')',\n",
       " u'\\u5bf9',\n",
       " u'\\u6c7d\\u8f66',\n",
       " u'\\u96f6\\u90e8\\u4ef6',\n",
       " u'\\u7684',\n",
       " u'\\u4e70\\u5bb6',\n",
       " u'\\u8981\\u4ef7',\n",
       " u'\\u8fc7\\u9ad8',\n",
       " u'\\u3002',\n",
       " u'\\u5206\\u6790\\u5e08',\n",
       " u'\\u8ba4\\u4e3a',\n",
       " u'\\uff0c',\n",
       " u'\\u90a3',\n",
       " u'\\u662f',\n",
       " u'\\u5728',\n",
       " u'\\u5411',\n",
       " u'\\u8fd9\\u4e9b',\n",
       " u'\\u6c7d\\u8f66',\n",
       " u'\\u5236\\u9020\\u5546',\n",
       " u'\\u65bd\\u538b',\n",
       " u'\\uff0c',\n",
       " u'\\u8ba9',\n",
       " u'\\u5b83\\u4eec',\n",
       " u'\\u628a',\n",
       " u'\\u66f4',\n",
       " u'\\u591a',\n",
       " u'\\u7684',\n",
       " u'\\u5236\\u9020',\n",
       " u'\\u5de5\\u4f5c',\n",
       " u'\\u642c\\u5230',\n",
       " u'\\u4e2d\\u56fd',\n",
       " u'\\u53bb',\n",
       " u'\\u3002']"
      ]
     },
     "execution_count": 2,
     "metadata": {},
     "output_type": "execute_result"
    }
   ],
   "source": [
    "# 分词\n",
    "nlp_en.word_tokenize(en_txt)\n",
    "nlp_cn.word_tokenize(cn_txt)"
   ]
  },
  {
   "cell_type": "code",
   "execution_count": 3,
   "metadata": {
    "collapsed": false
   },
   "outputs": [
    {
     "data": {
      "text/plain": [
       "[(u'There', u'EX'),\n",
       " (u'are', u'VBP'),\n",
       " (u'more', u'RBR'),\n",
       " (u'public', u'JJ'),\n",
       " (u'options', u'NNS'),\n",
       " (u',', u','),\n",
       " (u'too', u'RB'),\n",
       " (u'.', u'.'),\n",
       " (u'For', u'IN'),\n",
       " (u'example', u'NN'),\n",
       " (u',', u','),\n",
       " (u'in', u'IN'),\n",
       " (u'2013', u'CD'),\n",
       " (u',', u','),\n",
       " (u'Chinese', u'JJ'),\n",
       " (u'state', u'NN'),\n",
       " (u'media', u'NNS'),\n",
       " (u'accused', u'VBD'),\n",
       " (u'Jaguar', u'NNP'),\n",
       " (u'Land', u'NNP'),\n",
       " (u'Rover', u'NNP'),\n",
       " (u'and', u'CC'),\n",
       " (u'Audi', u'NNP'),\n",
       " (u'of', u'IN'),\n",
       " (u'overcharging', u'VBG'),\n",
       " (u'buyers', u'NNS'),\n",
       " (u'for', u'IN'),\n",
       " (u'car', u'NN'),\n",
       " (u'parts', u'NNS'),\n",
       " (u',', u','),\n",
       " (u'which', u'WDT'),\n",
       " (u'analysts', u'NNS'),\n",
       " (u'viewed', u'VBD'),\n",
       " (u'as', u'IN'),\n",
       " (u'part', u'NN'),\n",
       " (u'of', u'IN'),\n",
       " (u'a', u'DT'),\n",
       " (u'campaign', u'NN'),\n",
       " (u'to', u'TO'),\n",
       " (u'pressure', u'VB'),\n",
       " (u'those', u'DT'),\n",
       " (u'automakers', u'NNS'),\n",
       " (u'to', u'TO'),\n",
       " (u'locate', u'VB'),\n",
       " (u'more', u'JJR'),\n",
       " (u'manufacturing', u'NN'),\n",
       " (u'in', u'IN'),\n",
       " (u'China', u'NNP'),\n",
       " (u'.', u'.')]"
      ]
     },
     "execution_count": 3,
     "metadata": {},
     "output_type": "execute_result"
    }
   ],
   "source": [
    "# 词性标注\n",
    "nlp_en.pos_tag(en_txt)"
   ]
  },
  {
   "cell_type": "code",
   "execution_count": 4,
   "metadata": {
    "collapsed": false
   },
   "outputs": [
    {
     "data": {
      "text/plain": [
       "[(u'\\u8fd8\\u6709', u'AD'),\n",
       " (u'\\u66f4', u'AD'),\n",
       " (u'\\u591a', u'VA'),\n",
       " (u'\\u7684', u'DEC'),\n",
       " (u'\\u516c\\u5f00', u'JJ'),\n",
       " (u'\\u9009\\u62e9', u'NN'),\n",
       " (u'\\u3002', u'PU'),\n",
       " (u'\\u6bd4\\u5982', u'AD'),\n",
       " (u'\\uff0c', u'PU'),\n",
       " (u'2013\\u5e74', u'NT'),\n",
       " (u'\\uff0c', u'PU'),\n",
       " (u'\\u4e2d\\u56fd', u'NR'),\n",
       " (u'\\u5b98\\u65b9', u'NN'),\n",
       " (u'\\u5a92\\u4f53', u'NN'),\n",
       " (u'\\u6307\\u8d23', u'VV'),\n",
       " (u'\\u6377\\u8c79', u'NN'),\n",
       " (u'\\u8def\\u864e', u'NN'),\n",
       " (u'(', u'PU'),\n",
       " (u'Jaguar', u'NR'),\n",
       " (u'Land', u'JJ'),\n",
       " (u'Rover', u'NN'),\n",
       " (u')', u'PU'),\n",
       " (u'\\u548c', u'CC'),\n",
       " (u'\\u5965\\u8fea', u'NR'),\n",
       " (u'(', u'PU'),\n",
       " (u'Audi', u'NR'),\n",
       " (u')', u'PU'),\n",
       " (u'\\u5bf9', u'P'),\n",
       " (u'\\u6c7d\\u8f66', u'NN'),\n",
       " (u'\\u96f6\\u90e8\\u4ef6', u'NN'),\n",
       " (u'\\u7684', u'DEG'),\n",
       " (u'\\u4e70\\u5bb6', u'NN'),\n",
       " (u'\\u8981\\u4ef7', u'NN'),\n",
       " (u'\\u8fc7\\u9ad8', u'VA'),\n",
       " (u'\\u3002', u'PU'),\n",
       " (u'\\u5206\\u6790\\u5e08', u'NN'),\n",
       " (u'\\u8ba4\\u4e3a', u'VV'),\n",
       " (u'\\uff0c', u'PU'),\n",
       " (u'\\u90a3', u'PN'),\n",
       " (u'\\u662f', u'VC'),\n",
       " (u'\\u5728', u'P'),\n",
       " (u'\\u5411', u'P'),\n",
       " (u'\\u8fd9\\u4e9b', u'DT'),\n",
       " (u'\\u6c7d\\u8f66', u'NN'),\n",
       " (u'\\u5236\\u9020\\u5546', u'NN'),\n",
       " (u'\\u65bd\\u538b', u'VV'),\n",
       " (u'\\uff0c', u'PU'),\n",
       " (u'\\u8ba9', u'VV'),\n",
       " (u'\\u5b83\\u4eec', u'PN'),\n",
       " (u'\\u628a', u'BA'),\n",
       " (u'\\u66f4', u'AD'),\n",
       " (u'\\u591a', u'CD'),\n",
       " (u'\\u7684', u'DEG'),\n",
       " (u'\\u5236\\u9020', u'NN'),\n",
       " (u'\\u5de5\\u4f5c', u'NN'),\n",
       " (u'\\u642c\\u5230', u'VV'),\n",
       " (u'\\u4e2d\\u56fd', u'NR'),\n",
       " (u'\\u53bb', u'VV'),\n",
       " (u'\\u3002', u'PU')]"
      ]
     },
     "execution_count": 4,
     "metadata": {},
     "output_type": "execute_result"
    }
   ],
   "source": [
    "nlp_cn.pos_tag(cn_txt)"
   ]
  },
  {
   "cell_type": "code",
   "execution_count": 5,
   "metadata": {
    "collapsed": false
   },
   "outputs": [
    {
     "data": {
      "text/plain": [
       "[(u'There', u'O'),\n",
       " (u'are', u'O'),\n",
       " (u'more', u'O'),\n",
       " (u'public', u'O'),\n",
       " (u'options', u'O'),\n",
       " (u',', u'O'),\n",
       " (u'too', u'O'),\n",
       " (u'.', u'O'),\n",
       " (u'For', u'O'),\n",
       " (u'example', u'O'),\n",
       " (u',', u'O'),\n",
       " (u'in', u'O'),\n",
       " (u'2013', u'DATE'),\n",
       " (u',', u'O'),\n",
       " (u'Chinese', u'MISC'),\n",
       " (u'state', u'O'),\n",
       " (u'media', u'O'),\n",
       " (u'accused', u'O'),\n",
       " (u'Jaguar', u'ORGANIZATION'),\n",
       " (u'Land', u'ORGANIZATION'),\n",
       " (u'Rover', u'ORGANIZATION'),\n",
       " (u'and', u'O'),\n",
       " (u'Audi', u'ORGANIZATION'),\n",
       " (u'of', u'O'),\n",
       " (u'overcharging', u'O'),\n",
       " (u'buyers', u'O'),\n",
       " (u'for', u'O'),\n",
       " (u'car', u'O'),\n",
       " (u'parts', u'O'),\n",
       " (u',', u'O'),\n",
       " (u'which', u'O'),\n",
       " (u'analysts', u'O'),\n",
       " (u'viewed', u'O'),\n",
       " (u'as', u'O'),\n",
       " (u'part', u'O'),\n",
       " (u'of', u'O'),\n",
       " (u'a', u'O'),\n",
       " (u'campaign', u'O'),\n",
       " (u'to', u'O'),\n",
       " (u'pressure', u'O'),\n",
       " (u'those', u'O'),\n",
       " (u'automakers', u'O'),\n",
       " (u'to', u'O'),\n",
       " (u'locate', u'O'),\n",
       " (u'more', u'O'),\n",
       " (u'manufacturing', u'O'),\n",
       " (u'in', u'O'),\n",
       " (u'China', u'LOCATION'),\n",
       " (u'.', u'O')]"
      ]
     },
     "execution_count": 5,
     "metadata": {},
     "output_type": "execute_result"
    }
   ],
   "source": [
    "# 全名实体识别\n",
    "nlp_en.ner(en_txt)"
   ]
  },
  {
   "cell_type": "code",
   "execution_count": 6,
   "metadata": {
    "collapsed": false
   },
   "outputs": [
    {
     "data": {
      "text/plain": [
       "[(u'\\u8fd8\\u6709', u'O'),\n",
       " (u'\\u66f4', u'O'),\n",
       " (u'\\u591a', u'O'),\n",
       " (u'\\u7684', u'O'),\n",
       " (u'\\u516c\\u5f00', u'O'),\n",
       " (u'\\u9009\\u62e9', u'O'),\n",
       " (u'\\u3002', u'O'),\n",
       " (u'\\u6bd4\\u5982', u'O'),\n",
       " (u'\\uff0c', u'O'),\n",
       " (u'2013\\u5e74', u'DATE'),\n",
       " (u'\\uff0c', u'O'),\n",
       " (u'\\u4e2d\\u56fd', u'DEMONYM'),\n",
       " (u'\\u5b98\\u65b9', u'O'),\n",
       " (u'\\u5a92\\u4f53', u'O'),\n",
       " (u'\\u6307\\u8d23', u'O'),\n",
       " (u'\\u6377\\u8c79', u'ORGANIZATION'),\n",
       " (u'\\u8def\\u864e', u'ORGANIZATION'),\n",
       " (u'(', u'O'),\n",
       " (u'Jaguar', u'O'),\n",
       " (u'Land', u'O'),\n",
       " (u'Rover', u'O'),\n",
       " (u')', u'O'),\n",
       " (u'\\u548c', u'O'),\n",
       " (u'\\u5965\\u8fea', u'O'),\n",
       " (u'(', u'O'),\n",
       " (u'Audi', u'O'),\n",
       " (u')', u'O'),\n",
       " (u'\\u5bf9', u'O'),\n",
       " (u'\\u6c7d\\u8f66', u'O'),\n",
       " (u'\\u96f6\\u90e8\\u4ef6', u'O'),\n",
       " (u'\\u7684', u'O'),\n",
       " (u'\\u4e70\\u5bb6', u'O'),\n",
       " (u'\\u8981\\u4ef7', u'O'),\n",
       " (u'\\u8fc7\\u9ad8', u'O'),\n",
       " (u'\\u3002', u'O'),\n",
       " (u'\\u5206\\u6790\\u5e08', u'O'),\n",
       " (u'\\u8ba4\\u4e3a', u'O'),\n",
       " (u'\\uff0c', u'O'),\n",
       " (u'\\u90a3', u'O'),\n",
       " (u'\\u662f', u'O'),\n",
       " (u'\\u5728', u'O'),\n",
       " (u'\\u5411', u'O'),\n",
       " (u'\\u8fd9\\u4e9b', u'O'),\n",
       " (u'\\u6c7d\\u8f66', u'O'),\n",
       " (u'\\u5236\\u9020\\u5546', u'O'),\n",
       " (u'\\u65bd\\u538b', u'O'),\n",
       " (u'\\uff0c', u'O'),\n",
       " (u'\\u8ba9', u'O'),\n",
       " (u'\\u5b83\\u4eec', u'O'),\n",
       " (u'\\u628a', u'O'),\n",
       " (u'\\u66f4', u'O'),\n",
       " (u'\\u591a', u'NUMBER'),\n",
       " (u'\\u7684', u'O'),\n",
       " (u'\\u5236\\u9020', u'O'),\n",
       " (u'\\u5de5\\u4f5c', u'O'),\n",
       " (u'\\u642c\\u5230', u'O'),\n",
       " (u'\\u4e2d\\u56fd', u'GPE'),\n",
       " (u'\\u53bb', u'O'),\n",
       " (u'\\u3002', u'O')]"
      ]
     },
     "execution_count": 6,
     "metadata": {},
     "output_type": "execute_result"
    }
   ],
   "source": [
    "nlp_cn.ner(cn_txt)"
   ]
  },
  {
   "cell_type": "code",
   "execution_count": 7,
   "metadata": {
    "collapsed": false
   },
   "outputs": [
    {
     "data": {
      "text/plain": [
       "u'(ROOT\\r\\n  (S\\r\\n    (NP (EX There))\\r\\n    (VP (VBP are)\\r\\n      (NP\\r\\n        (ADJP (RBR more) (JJ public))\\r\\n        (NNS options))\\r\\n      (, ,)\\r\\n      (ADVP (RB too)))\\r\\n    (. .)))'"
      ]
     },
     "execution_count": 7,
     "metadata": {},
     "output_type": "execute_result"
    }
   ],
   "source": [
    "# 短语句法分析\n",
    "nlp_en.parse(en_txt)"
   ]
  },
  {
   "cell_type": "code",
   "execution_count": 8,
   "metadata": {
    "collapsed": false
   },
   "outputs": [
    {
     "data": {
      "text/plain": [
       "u'(ROOT\\r\\n  (IP\\r\\n    (VP\\r\\n      (ADVP (AD \\u8fd8\\u6709))\\r\\n      (VP\\r\\n        (NP\\r\\n          (DNP\\r\\n            (QP\\r\\n              (ADVP (AD \\u66f4))\\r\\n              (QP (VA \\u591a)))\\r\\n            (DEC \\u7684))\\r\\n          (ADJP (JJ \\u516c\\u5f00))\\r\\n          (NP (NN \\u9009\\u62e9)))))\\r\\n    (PU \\u3002)))'"
      ]
     },
     "execution_count": 8,
     "metadata": {},
     "output_type": "execute_result"
    }
   ],
   "source": [
    "nlp_cn.parse(cn_txt)"
   ]
  },
  {
   "cell_type": "code",
   "execution_count": null,
   "metadata": {
    "collapsed": true
   },
   "outputs": [],
   "source": []
  }
 ],
 "metadata": {
  "kernelspec": {
   "display_name": "Python 2",
   "language": "python",
   "name": "python2"
  },
  "language_info": {
   "codemirror_mode": {
    "name": "ipython",
    "version": 2
   },
   "file_extension": ".py",
   "mimetype": "text/x-python",
   "name": "python",
   "nbconvert_exporter": "python",
   "pygments_lexer": "ipython2",
   "version": "2.7.10"
  }
 },
 "nbformat": 4,
 "nbformat_minor": 0
}
